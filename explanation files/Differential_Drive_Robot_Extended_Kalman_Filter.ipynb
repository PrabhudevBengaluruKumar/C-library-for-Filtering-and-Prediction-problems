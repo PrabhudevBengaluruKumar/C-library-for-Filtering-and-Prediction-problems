{
 "cells": [
  {
   "cell_type": "markdown",
   "metadata": {},
   "source": [
    "**Differential Drive robot using Extended kalman filter**"
   ]
  },
  {
   "cell_type": "markdown",
   "metadata": {},
   "source": [
    "Lets consider a problem of robot localization.\n",
    "\n",
    "Assuming that our robot is wheeled, which means that it moves by turning it's wheels. When it does so, the robot turn around the rear axle while moving forward. This is non-linear behaviour.\n"
   ]
  },
  {
   "cell_type": "code",
   "execution_count": 1,
   "metadata": {},
   "outputs": [
    {
     "data": {
      "image/png": "[encoded data removed]",
      "text/plain": [
       "<IPython.core.display.Image object>"
      ]
     },
     "execution_count": 1,
     "metadata": {},
     "output_type": "execute_result"
    }
   ],
   "source": [
    "from IPython.display import Image\n",
    "Image(\"C:/Users/suhas/Pictures/Robot_localization.png\")"
   ]
  },
  {
   "cell_type": "markdown",
   "metadata": {},
   "source": [
    "1) At a first approximation an automobile steers by turning the front tires while moving forward.\n",
    "\n",
    "2) The front of the car moves in the direction that the wheels are pointing while turning around the rear tires.\n",
    "\n",
    "3) This simple description is complicated by issues such as slippage due to friction, the differing behavior of the rubber tires at different speeds, and the need for the outside tire to travel a different radius than the inner tire. \n",
    "\n",
    "4) To Accurately model steering we need a set of differential equations.\n",
    "\n",
    "\n",
    "**Refering to the above diagram:**\n",
    "\n",
    "1) The front tire is pointing in direction $\\alpha$\n",
    "\n",
    "2) Over a short time period the car moves forward and the rear wheel ends up further ahead and slightly turned inward, as depicted with the blue shaded tire. \n",
    "\n",
    "3) Over such a short time frame we can approximate this as a turn around a radius R.\n",
    "\n",
    "\n",
    "Formula to compute the turn angle $\\beta$ is : $$\\beta = \\frac{d}{w} \\tan{\\alpha}$$\n",
    "\n",
    "Formula to compute the turning radius is: $$R = \\frac{d}{\\beta}$$\n",
    "\n",
    "The distance d is given by $$d = v \\Delta t$$ where, v is the forward velocity.\n",
    "\n",
    "If $\\theta$ is our current orientation then we can compute the position C as \n",
    "\n",
    "$$C_x = x - R \\sin(\\theta)$$\n",
    "$$C_y = y + R \\cos(\\theta)$$\n",
    "\n",
    "After the move forward for time $\\Delta t$ the new position and orientation of the robot is\n",
    "\n",
    "$$x = C_x + R \\sin(\\theta + \\beta) $$\n",
    "\n",
    "$$y = C_y - R \\cos(\\theta + \\beta) $$\n",
    "\n",
    "$$\\theta = \\theta + \\beta$$\n",
    "\n",
    "Once we substitute in for CC we get\n",
    "\n",
    "$$x = x - R \\sin(\\theta) + R \\sin(\\theta + \\beta) $$\n",
    "\n",
    "$$y = y + R \\cos(\\theta) - R \\cos(\\theta + \\beta) $$\n",
    "\n",
    "$$\\theta = \\theta + \\beta$$\n",
    "\n",
    "**These equations represent the motion of the robot and its is evident that the system is non-linear by seeing the equations.**"
   ]
  },
  {
   "cell_type": "markdown",
   "metadata": {},
   "source": [
    "**Design our state variables**\n",
    "\n",
    "In this example, we need to find position and orientation of the robot.\n",
    "\n",
    "$$X =\\begin{bmatrix}x \\\\ y \\\\ \\theta\n",
    "\\end{bmatrix}$$\n",
    "\n",
    "We can include velocity also to our state but that makes the problem more complicated. Therefore we will take velocity and steering angle as our control input u.\n",
    "\n",
    "$$u =\\begin{bmatrix}v \\\\ \\alpha\n",
    "\\end{bmatrix}$$"
   ]
  },
  {
   "cell_type": "markdown",
   "metadata": {},
   "source": [
    "**Design the system model**\n",
    "\n",
    "Equation for the system with nonlinear motion model plus noise.\n",
    "\n",
    "$$\\hat{x} = x + f(x,u)$$\n",
    "\n",
    "We can expand the above given motion equations as \n",
    "\n",
    "$$\\begin{bmatrix}\\hat x \\\\ \\hat y \\\\ \\hat\\theta\n",
    "\\end{bmatrix} = \\begin{bmatrix}x \\\\ y \\\\ \\theta\n",
    "\\end{bmatrix} + \\begin{bmatrix} - R \\sin(\\theta) + R \\sin(\\theta + \\beta) \\\\ R \\cos(\\theta) - R \\cos(\\theta + \\beta) \\\\ \\beta \\end{bmatrix}$$"
   ]
  },
  {
   "cell_type": "markdown",
   "metadata": {},
   "source": [
    "We linearize this with a taylor expansion at x:\n",
    "\n",
    "$$f(x,u) \\approx x + \\frac{\\partial{f(x,u)}}{\\partial{x}} $$\n",
    "\n",
    "We replace f(x, u) with our state estimate X, and the derivative is the Jacobian of f.\n",
    "\n",
    "$$F = \\frac{\\partial{f(x,u)}}{\\partial{x}} = \\begin{bmatrix} \\frac{\\partial{\\dot{x}}}{\\partial{x}} & \\frac{\\partial{\\dot{x}}}{\\partial{y}} & \\frac{\\partial{\\dot{x}}}{\\partial{\\theta}} \\\\ \n",
    "\\frac{\\partial{\\dot{x}}}{\\partial{x}} & \\frac{\\partial{\\dot{y}}}{\\partial{y}} & \\frac{\\partial{\\dot{y}}}{\\partial{\\theta}} \\\\\n",
    "\\frac{\\partial{\\dot{\\theta}}}{\\partial{x}} & \\frac{\\partial{\\dot{\\theta}}}{\\partial{y}} & \\frac{\\partial{\\dot{\\theta}}}{\\partial{\\theta}}\\end{bmatrix}$$"
   ]
  },
  {
   "cell_type": "code",
   "execution_count": 2,
   "metadata": {},
   "outputs": [
    {
     "data": {
      "text/latex": [
       "$\\displaystyle \\left[\\begin{matrix}1 & 0 & - \\frac{w \\cos{\\left(\\theta \\right)}}{\\tan{\\left(a \\right)}} + \\frac{w \\cos{\\left(\\frac{t v \\tan{\\left(a \\right)}}{w} + \\theta \\right)}}{\\tan{\\left(a \\right)}}\\\\0 & 1 & - \\frac{w \\sin{\\left(\\theta \\right)}}{\\tan{\\left(a \\right)}} + \\frac{w \\sin{\\left(\\frac{t v \\tan{\\left(a \\right)}}{w} + \\theta \\right)}}{\\tan{\\left(a \\right)}}\\\\0 & 0 & 1\\end{matrix}\\right]$"
      ],
      "text/plain": [
       "Matrix([\n",
       "[1, 0, -w*cos(theta)/tan(a) + w*cos(t*v*tan(a)/w + theta)/tan(a)],\n",
       "[0, 1, -w*sin(theta)/tan(a) + w*sin(t*v*tan(a)/w + theta)/tan(a)],\n",
       "[0, 0,                                                         1]])"
      ]
     },
     "execution_count": 2,
     "metadata": {},
     "output_type": "execute_result"
    }
   ],
   "source": [
    "import sympy as sp\n",
    "\n",
    "a, x, y, v, w, theta, time = sp.symbols('a, x, y, v, w, theta, t')\n",
    "\n",
    "d = v*time\n",
    "beta = (d/w)*sp.tan(a)\n",
    "R = w/sp.tan(a)\n",
    "\n",
    "X = sp.Matrix([x, y, theta])\n",
    "\n",
    "f_x_u = sp.Matrix([[x-R*sp.sin(theta)+R*sp.sin(theta+beta)],\n",
    "              [y+R*sp.cos(theta)-R*sp.cos(theta+beta)],\n",
    "              [theta+beta]])\n",
    "\n",
    "F = f_x_u.jacobian(X)\n",
    "\n",
    "F\n"
   ]
  },
  {
   "cell_type": "markdown",
   "metadata": {},
   "source": [
    "**Noise in the model**\n",
    "\n",
    "The noise is in our control input, so it is in control space. \n",
    "\n",
    "When we command a specific velocity and steering angle, we need to convert that into errors in x, y, $\\theta$.\n",
    "\n",
    "In a real system this might vary depending on velocity, so it will need to be recomputed for every prediction. \n",
    "\n",
    "The noise model for this case is chosen as:\n",
    "$$M = \\begin{bmatrix} 0.01 v^2 & 0 \\\\ 0 & \\sigma_{\\alpha}^2\\end{bmatrix}$$\n",
    "\n",
    "$$V = \\frac{\\partial{f(x,u)}}{\\partial{x}} = \\begin{bmatrix} \\frac{\\partial{\\dot{x}}}{\\partial{v}} & \\frac{\\partial{\\dot{x}}}{\\partial{\\alpha}} \\\\ \n",
    "\\frac{\\partial{\\dot{x}}}{\\partial{v}} & \\frac{\\partial{\\dot{y}}}{\\partial{\\alpha}} \\\\\n",
    "\\frac{\\partial{\\dot{\\theta}}}{\\partial{v}} & \\frac{\\partial{\\dot{\\theta}}}{\\partial{\\alpha}}\\end{bmatrix}$$\n",
    "\n",
    "$$Q = VMV^T$$"
   ]
  },
  {
   "cell_type": "code",
   "execution_count": 3,
   "metadata": {
    "scrolled": true
   },
   "outputs": [
    {
     "data": {
      "text/latex": [
       "$\\displaystyle \\left[\\begin{matrix}t \\cos{\\left(\\frac{t v \\tan{\\left(a \\right)}}{w} + \\theta \\right)} & \\frac{t v \\left(\\tan^{2}{\\left(a \\right)} + 1\\right) \\cos{\\left(\\frac{t v \\tan{\\left(a \\right)}}{w} + \\theta \\right)}}{\\tan{\\left(a \\right)}} - \\frac{w \\left(- \\tan^{2}{\\left(a \\right)} - 1\\right) \\sin{\\left(\\theta \\right)}}{\\tan^{2}{\\left(a \\right)}} + \\frac{w \\left(- \\tan^{2}{\\left(a \\right)} - 1\\right) \\sin{\\left(\\frac{t v \\tan{\\left(a \\right)}}{w} + \\theta \\right)}}{\\tan^{2}{\\left(a \\right)}}\\\\t \\sin{\\left(\\frac{t v \\tan{\\left(a \\right)}}{w} + \\theta \\right)} & \\frac{t v \\left(\\tan^{2}{\\left(a \\right)} + 1\\right) \\sin{\\left(\\frac{t v \\tan{\\left(a \\right)}}{w} + \\theta \\right)}}{\\tan{\\left(a \\right)}} + \\frac{w \\left(- \\tan^{2}{\\left(a \\right)} - 1\\right) \\cos{\\left(\\theta \\right)}}{\\tan^{2}{\\left(a \\right)}} - \\frac{w \\left(- \\tan^{2}{\\left(a \\right)} - 1\\right) \\cos{\\left(\\frac{t v \\tan{\\left(a \\right)}}{w} + \\theta \\right)}}{\\tan^{2}{\\left(a \\right)}}\\\\\\frac{t \\tan{\\left(a \\right)}}{w} & \\frac{t v \\left(\\tan^{2}{\\left(a \\right)} + 1\\right)}{w}\\end{matrix}\\right]$"
      ],
      "text/plain": [
       "Matrix([\n",
       "[t*cos(t*v*tan(a)/w + theta), t*v*(tan(a)**2 + 1)*cos(t*v*tan(a)/w + theta)/tan(a) - w*(-tan(a)**2 - 1)*sin(theta)/tan(a)**2 + w*(-tan(a)**2 - 1)*sin(t*v*tan(a)/w + theta)/tan(a)**2],\n",
       "[t*sin(t*v*tan(a)/w + theta), t*v*(tan(a)**2 + 1)*sin(t*v*tan(a)/w + theta)/tan(a) + w*(-tan(a)**2 - 1)*cos(theta)/tan(a)**2 - w*(-tan(a)**2 - 1)*cos(t*v*tan(a)/w + theta)/tan(a)**2],\n",
       "[                 t*tan(a)/w,                                                                                                                                   t*v*(tan(a)**2 + 1)/w]])"
      ]
     },
     "execution_count": 3,
     "metadata": {},
     "output_type": "execute_result"
    }
   ],
   "source": [
    "u = sp.Matrix([v, a])\n",
    "Q = f_x_u.jacobian(u)\n",
    "\n",
    "Q"
   ]
  },
  {
   "cell_type": "markdown",
   "metadata": {},
   "source": [
    "**The final form of our prediction equations are:**\n",
    "\n",
    "<font color='blue'> $$x' = \\begin{bmatrix}x \\\\ y \\\\ \\theta\n",
    "\\end{bmatrix} + \\begin{bmatrix} - R \\sin(\\theta) + R \\sin(\\theta + \\beta) \\\\ R \\cos(\\theta) - R \\cos(\\theta + \\beta) \\\\ \\beta \\end{bmatrix}$$\n",
    "\n",
    "$$P' = FPF^T + Q $$</font>"
   ]
  },
  {
   "cell_type": "markdown",
   "metadata": {},
   "source": [
    "**Design Measurement model**\n",
    "\n",
    "For this problem we are assuming that we have a sensor that receives a noisy bearing and range to multiple known locations in the landscape. \n",
    "\n",
    "The measurement model must convert the state $$X =\\begin{bmatrix}x \\\\ y \\\\ \\theta\n",
    "\\end{bmatrix}$$\n",
    "into a range and bearing to the landmark. \n",
    "\n",
    "$$range = r = \\sqrt{(p_x - x)^2 + (p_y - y)^2}$$\n",
    "\n",
    "$$bearing = \\phi = \\arctan\\frac{p_y - y}{p_x - x} - \\theta$$"
   ]
  },
  {
   "cell_type": "markdown",
   "metadata": {},
   "source": [
    "Thus, our function is\n",
    "\n",
    "$$x = h(x,p) + Measurement Noise$$\n",
    "\n",
    "$$x = \\begin{bmatrix}\\sqrt{(p_x - x)^2 + (p_y - y)^2} \\\\ \\arctan\\frac{p_y - y}{p_x - x} - \\theta \\end{bmatrix} + Measurement Noise$$"
   ]
  },
  {
   "cell_type": "code",
   "execution_count": 4,
   "metadata": {},
   "outputs": [
    {
     "data": {
      "text/latex": [
       "$\\displaystyle \\left[\\begin{matrix}\\frac{- px + x}{\\sqrt{\\left(px - x\\right)^{2} + \\left(py - y\\right)^{2}}} & \\frac{- py + y}{\\sqrt{\\left(px - x\\right)^{2} + \\left(py - y\\right)^{2}}} & 0\\\\- \\frac{- py + y}{\\left(px - x\\right)^{2} + \\left(py - y\\right)^{2}} & - \\frac{px - x}{\\left(px - x\\right)^{2} + \\left(py - y\\right)^{2}} & -1\\end{matrix}\\right]$"
      ],
      "text/plain": [
       "Matrix([\n",
       "[(-px + x)/sqrt((px - x)**2 + (py - y)**2), (-py + y)/sqrt((px - x)**2 + (py - y)**2),  0],\n",
       "[   -(-py + y)/((px - x)**2 + (py - y)**2),     -(px - x)/((px - x)**2 + (py - y)**2), -1]])"
      ]
     },
     "execution_count": 4,
     "metadata": {},
     "output_type": "execute_result"
    }
   ],
   "source": [
    "px, py = sp.symbols('px, py')\n",
    "z = sp.Matrix([[sp.sqrt((px-x)**2 + (py-y)**2)],\n",
    "            [sp.atan2(py-y, px-x) - theta]])\n",
    "\n",
    "z.jacobian(X)"
   ]
  },
  {
   "cell_type": "code",
   "execution_count": 5,
   "metadata": {},
   "outputs": [],
   "source": [
    "import math as math\n",
    "\n",
    "def H_of(x, landmark_pos):\n",
    "    \"\"\" compute Jacobian of H matrix where h(x) computes the range and\n",
    "    bearing to a landmark for state x \"\"\"\n",
    "\n",
    "    px = landmark_pos[0]\n",
    "    py = landmark_pos[1]\n",
    "    hyp = (px - x[0, 0])**2 + (py - x[1, 0])**2\n",
    "    dist = math.sqrt(hyp)\n",
    "\n",
    "    H = sp.Matrix(\n",
    "        [[-(px - x[0, 0]) / dist, -(py - x[1, 0]) / dist, 0],\n",
    "         [ (py - x[1, 0]) / hyp,  -(px - x[0, 0]) / hyp, -1]])\n",
    "    return H"
   ]
  },
  {
   "cell_type": "code",
   "execution_count": 6,
   "metadata": {},
   "outputs": [],
   "source": [
    "from math import atan2\n",
    "def Hx(x, landmark_pos):\n",
    "    \"\"\" takes a state variable and returns the measurement that would\n",
    "    correspond to that state.\n",
    "    \"\"\"\n",
    "    px = landmark_pos[0]\n",
    "    py = landmark_pos[1]\n",
    "    dist = math.sqrt((px - x[0, 0])**2 + (py - x[1, 0])**2)\n",
    "\n",
    "    Hx = sp.Matrix([[dist],\n",
    "                [math.atan2(py - x[1, 0], px - x[0, 0]) - x[2, 0]]])\n",
    "    return Hx"
   ]
  },
  {
   "cell_type": "markdown",
   "metadata": {},
   "source": [
    "**Design Measurement Noise**\n",
    "\n",
    "Measurement noise is defined in measurement space, hence it is linear. It is reasonable to assume that the range and bearing measurement noise is independent, hence\n",
    "\n",
    "$$R = \\begin{bmatrix}\\sigma_{range}^2 & 0 \\\\ 0 & \\sigma_{bearing}^2\\end{bmatrix}$$"
   ]
  },
  {
   "cell_type": "markdown",
   "metadata": {},
   "source": [
    "**The final form of our updation equations are:**\n",
    "\n",
    "<font color='blue'> $$K = P' H^T (H P' H^T + R)^{-1}$$</font> \n",
    "\n",
    "<font color='blue'> $$x= x'+ K(z - h(x))$$</font> \n",
    "\n",
    "<font color='blue'> $$P = P'(I - KH)$$</font> "
   ]
  },
  {
   "cell_type": "markdown",
   "metadata": {},
   "source": [
    "<u>**SUMMARY**</u>\n",
    "\n",
    "<u>**Equations:**</u>\n",
    "\n",
    "**1) Prediction step:**\n",
    "\n",
    "$$Linear:$$\n",
    "\n",
    "<font color='red'> $$x' = Fx + Bu$$</font> \n",
    "\n",
    "<font color='blue'> $$P = FPF^T + Q$$</font> \n",
    "\n",
    "$$Non-linear:$$\n",
    "\n",
    "<font color='red'> $$x' = x + f(x,u)$$</font> \n",
    "\n",
    "<font color='blue'> $$P' = FPF^T + Q$$</font> \n"
   ]
  },
  {
   "cell_type": "markdown",
   "metadata": {},
   "source": [
    "**2) Updation step:**\n",
    "\n",
    "$$Linear:$$\n",
    "\n",
    "<font color='blue'> $$K = P' H^T (H P' H^T + R)^{-1}$$</font> \n",
    "\n",
    "<font color='red'> $$x= x'+ K(z - H x')$$</font> \n",
    "\n",
    "<font color='blue'> $$P = P'(I - KH)$$</font> \n",
    "\n",
    "$$Non-Linear:$$\n",
    "\n",
    "<font color='blue'> $$K = P' H^T (H P' H^T + R)^{-1}$$</font> \n",
    "\n",
    "<font color='red'> $$x= x'+ K(z - h(x))$$</font> \n",
    "\n",
    "<font color='blue'> $$P = P'(I - KH)$$</font> "
   ]
  },
  {
   "cell_type": "markdown",
   "metadata": {},
   "source": [
    "**Dimensions of the terms used in the equation**\n",
    "\n",
    "| **Term** | **Name** | **Dimensions** |\n",
    "| -------- | -------- | -------------- |\n",
    "| x        | State Vector | $(n_x,1)$  |\n",
    "| F        | State Transition Matrix | $(n_x,n_x)$  |\n",
    "| B        | Control Matrix | $(n_x,n_u)$ |\n",
    "| u        | Input Variable | $(n_u,1)$  |\n",
    "| P        | Estimate Uncertainity | $(n_x,n_x)$  |\n",
    "| Q        | Process Noise Uncertainity | $(n_x,n_x)$  |\n",
    "| R        | Measurement Uncertainty | $(n_z,n_z)$  |\n",
    "| K        | Kalman Gain | $(n_x,n_x)$  |\n",
    "| H        | Observation Matrix | $(n_z,n_x)$  |\n",
    "| z        | Measurement | $(n_z,1)$  |\n",
    "| w        | Process noise Vector | $(n_x,1)$  |\n"
   ]
  },
  {
   "cell_type": "markdown",
   "metadata": {},
   "source": [
    "**REFERENCE**\n",
    "\n",
    "https://nbviewer.jupyter.org/github/rlabbe/Kalman-and-Bayesian-Filters-in-Python/tree/master/"
   ]
  },
  {
   "cell_type": "code",
   "execution_count": 12,
   "metadata": {},
   "outputs": [],
   "source": [
    "var = sp.symbols('sigma^2_v')\n",
    "dt, phi = sp.symbols('\\Delta{t} \\Phi_s')\n",
    "v = sp.Matrix([[dt**2 / 2], [dt], [1]])\n",
    "\n",
    "Q = v * var * v.T\n",
    "\n",
    "# factor variance out of the matrix to make it more readable\n",
    "# Q = Q / var\n",
    "# sp.MatMul(Q, var)"
   ]
  },
  {
   "cell_type": "code",
   "execution_count": 13,
   "metadata": {},
   "outputs": [
    {
     "name": "stdout",
     "output_type": "stream",
     "text": [
      "sigma^2_v\n"
     ]
    }
   ],
   "source": [
    "print(var)"
   ]
  },
  {
   "cell_type": "code",
   "execution_count": null,
   "metadata": {},
   "outputs": [],
   "source": []
  }
 ],
 "metadata": {
  "kernelspec": {
   "display_name": "Python 3",
   "language": "python",
   "name": "python3"
  },
  "language_info": {
   "codemirror_mode": {
    "name": "ipython",
    "version": 3
   },
   "file_extension": ".py",
   "mimetype": "text/x-python",
   "name": "python",
   "nbconvert_exporter": "python",
   "pygments_lexer": "ipython3",
   "version": "3.7.6"
  }
 },
 "nbformat": 4,
 "nbformat_minor": 4
}
